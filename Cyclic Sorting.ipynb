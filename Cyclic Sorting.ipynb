{
 "cells": [
  {
   "cell_type": "markdown",
   "id": "6472875f",
   "metadata": {},
   "source": [
    "### Cyclic Sorting\n",
    "           by- SANCHI SINGHAL"
   ]
  },
  {
   "cell_type": "markdown",
   "id": "aa4b83a0",
   "metadata": {},
   "source": [
    "#### Code"
   ]
  },
  {
   "cell_type": "code",
   "execution_count": 8,
   "id": "86f44060",
   "metadata": {},
   "outputs": [
    {
     "name": "stdout",
     "output_type": "stream",
     "text": [
      "Enter array to be sorted consisting of all element from 1 to N: 5 4 1 2 3\n",
      "Sorted array is : [1, 2, 3, 4, 5]\n"
     ]
    }
   ],
   "source": [
    "def cyclic_sorting(A):\n",
    "    i=0\n",
    "    while(i<len(A)):\n",
    "        if(i!=A[i]-1):\n",
    "            index=A[i]-1\n",
    "            A[i],A[index]=A[index],A[i]\n",
    "        else:\n",
    "            i=i+1\n",
    "    return A\n",
    "arr=list(map(int,input(\"Enter array to be sorted consisting of all element from 1 to N: \").split()))\n",
    "print(\"Sorted array is :\",cyclic_sorting(arr))\n",
    "    "
   ]
  },
  {
   "cell_type": "markdown",
   "id": "a4aa83ef",
   "metadata": {},
   "source": [
    "#### Practice Questions and their solutions:"
   ]
  },
  {
   "cell_type": "markdown",
   "id": "b10f4c9b",
   "metadata": {},
   "source": [
    "1. https://leetcode.com/problems/first-missing-positive/\n",
    "    <br>Solution: https://github.com/sanchi-singhal/Leetcode-Problems/blob/main/41.%20First%20Missing%20Positive\n",
    "2. https://leetcode.com/problems/missing-number/\n",
    "    <br>Solution: https://github.com/sanchi-singhal/Leetcode-Problems/blob/main/268.%20Missing%20Number\n",
    "3. https://leetcode.com/problems/find-the-duplicate-number/\n",
    "<br>Solution:https://github.com/sanchi-singhal/Leetcode-Problems/blob/main/287.%20Find%20the%20Duplicate%20Number\n",
    "4. https://leetcode.com/problems/find-all-duplicates-in-an-array/\n",
    "<br>Solution:https://github.com/sanchi-singhal/Leetcode-Problems/blob/main/442.%20Find%20All%20Duplicates%20in%20an%20Array\n",
    "5. https://leetcode.com/problems/find-all-numbers-disappeared-in-an-array/\n",
    "<br>Solution:https://github.com/sanchi-singhal/Leetcode-Problems/blob/main/448.%20Find%20All%20Numbers%20Disappeared%20in%20an%20Array\n",
    "6.https://leetcode.com/problems/set-mismatch/\n",
    "<br>Solution:https://github.com/sanchi-singhal/Leetcode-Problems/blob/main/645.%20Set%20Mismatch"
   ]
  },
  {
   "cell_type": "code",
   "execution_count": null,
   "id": "f377fb84",
   "metadata": {},
   "outputs": [],
   "source": []
  },
  {
   "cell_type": "code",
   "execution_count": null,
   "id": "a0c91d4d",
   "metadata": {},
   "outputs": [],
   "source": []
  },
  {
   "cell_type": "code",
   "execution_count": null,
   "id": "c1714f26",
   "metadata": {},
   "outputs": [],
   "source": []
  }
 ],
 "metadata": {
  "kernelspec": {
   "display_name": "Python 3",
   "language": "python",
   "name": "python3"
  },
  "language_info": {
   "codemirror_mode": {
    "name": "ipython",
    "version": 3
   },
   "file_extension": ".py",
   "mimetype": "text/x-python",
   "name": "python",
   "nbconvert_exporter": "python",
   "pygments_lexer": "ipython3",
   "version": "3.8.8"
  }
 },
 "nbformat": 4,
 "nbformat_minor": 5
}
